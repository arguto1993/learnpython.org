{
 "cells": [
  {
   "cell_type": "markdown",
   "id": "ed01e739",
   "metadata": {},
   "source": [
    "# Pandas Basics"
   ]
  },
  {
   "cell_type": "markdown",
   "id": "bfcc2f20",
   "metadata": {},
   "source": [
    "## Pandas DataFrames"
   ]
  },
  {
   "cell_type": "markdown",
   "id": "055bcb24",
   "metadata": {},
   "source": [
    "Pandas is a high-level data manipulation tool developed by Wes McKinney. It is built on the Numpy package and its key data structure is called the DataFrame. DataFrames allow you to store and manipulate tabular data in rows of observations and columns of variables.\n",
    "\n",
    "There are several ways to create a DataFrame. One way way is to use a dictionary. For example:"
   ]
  },
  {
   "cell_type": "code",
   "execution_count": 1,
   "id": "f85be8f7",
   "metadata": {},
   "outputs": [
    {
     "name": "stdout",
     "output_type": "stream",
     "text": [
      "        country    capital    area  population\n",
      "0        Brazil   Brasilia   8.516      200.40\n",
      "1        Russia     Moscow  17.100      143.50\n",
      "2         India  New Dehli   3.286     1252.00\n",
      "3         China    Beijing   9.597     1357.00\n",
      "4  South Africa   Pretoria   1.221       52.98\n"
     ]
    }
   ],
   "source": [
    "dict = {\"country\": [\"Brazil\", \"Russia\", \"India\", \"China\", \"South Africa\"],\n",
    "       \"capital\": [\"Brasilia\", \"Moscow\", \"New Dehli\", \"Beijing\", \"Pretoria\"],\n",
    "       \"area\": [8.516, 17.10, 3.286, 9.597, 1.221],\n",
    "       \"population\": [200.4, 143.5, 1252, 1357, 52.98] }\n",
    "\n",
    "import pandas as pd\n",
    "brics = pd.DataFrame(dict)\n",
    "print(brics)"
   ]
  },
  {
   "cell_type": "markdown",
   "id": "434799f0",
   "metadata": {},
   "source": [
    "As you can see with the new brics DataFrame, Pandas has assigned a key for each country as the numerical values 0 through 4. If you would like to have different index values, say, the two letter country code, you can do that easily as well."
   ]
  },
  {
   "cell_type": "code",
   "execution_count": 2,
   "id": "6a712218",
   "metadata": {},
   "outputs": [
    {
     "name": "stdout",
     "output_type": "stream",
     "text": [
      "         country    capital    area  population\n",
      "BR        Brazil   Brasilia   8.516      200.40\n",
      "RU        Russia     Moscow  17.100      143.50\n",
      "IN         India  New Dehli   3.286     1252.00\n",
      "CH         China    Beijing   9.597     1357.00\n",
      "SA  South Africa   Pretoria   1.221       52.98\n"
     ]
    }
   ],
   "source": [
    "# Set the index for brics\n",
    "brics.index = [\"BR\", \"RU\", \"IN\", \"CH\", \"SA\"]\n",
    "\n",
    "# Print out brics with new index values\n",
    "print(brics)"
   ]
  },
  {
   "cell_type": "markdown",
   "id": "0aa3bdcd",
   "metadata": {},
   "source": [
    "Another way to create a DataFrame is by importing a csv file using Pandas. Now, the csv cars.csv is stored and can be imported using pd.read_csv:"
   ]
  },
  {
   "cell_type": "code",
   "execution_count": 8,
   "id": "19b8ae24",
   "metadata": {},
   "outputs": [
    {
     "name": "stdout",
     "output_type": "stream",
     "text": [
      "     country  cars_per_cap  drives_right\n",
      "0         US          0.80          True\n",
      "1    Germany          0.60         False\n",
      "2      Japan          0.50         False\n",
      "3      India          0.05         False\n",
      "4     Brazil          0.25         False\n",
      "5  Australia          0.75         False\n",
      "6     Mexico          0.30          True\n"
     ]
    }
   ],
   "source": [
    "# Import pandas as pd\n",
    "import pandas as pd\n",
    "\n",
    "# Import the cars.csv data: cars\n",
    "cars = pd.read_csv('cars.csv') #I created the csv file based on the previous data in dict\n",
    "\n",
    "# Print out cars\n",
    "print(cars)"
   ]
  },
  {
   "cell_type": "markdown",
   "id": "24a2e92f",
   "metadata": {},
   "source": [
    "## Indexing DataFrames"
   ]
  },
  {
   "cell_type": "markdown",
   "id": "c0993601",
   "metadata": {},
   "source": [
    "There are several ways to index a Pandas DataFrame. One of the easiest ways to do this is by using square bracket notation.\n",
    "\n",
    "In the example below, you can use square brackets to select one column of the cars DataFrame. You can either use a single bracket or a double bracket. The single bracket will output a Pandas Series, while a double bracket will output a Pandas DataFrame."
   ]
  },
  {
   "cell_type": "code",
   "execution_count": 25,
   "id": "aafd64f2",
   "metadata": {},
   "outputs": [
    {
     "name": "stdout",
     "output_type": "stream",
     "text": [
      "country\n",
      "US           0.80\n",
      "Germany      0.60\n",
      "Japan        0.50\n",
      "India        0.05\n",
      "Brazil       0.25\n",
      "Australia    0.75\n",
      "Mexico       0.30\n",
      "Name: cars_per_cap, dtype: float64\n"
     ]
    }
   ],
   "source": [
    "# Import pandas and cars.csv\n",
    "import pandas as pd\n",
    "cars = pd.read_csv('cars.csv', index_col = 0)\n",
    "\n",
    "# Print out country column as Pandas Series\n",
    "print(cars['cars_per_cap'])"
   ]
  },
  {
   "cell_type": "code",
   "execution_count": 26,
   "id": "f0478bb7",
   "metadata": {},
   "outputs": [
    {
     "name": "stdout",
     "output_type": "stream",
     "text": [
      "           cars_per_cap\n",
      "country                \n",
      "US                 0.80\n",
      "Germany            0.60\n",
      "Japan              0.50\n",
      "India              0.05\n",
      "Brazil             0.25\n",
      "Australia          0.75\n",
      "Mexico             0.30\n"
     ]
    }
   ],
   "source": [
    "# Print out country column as Pandas DataFrame\n",
    "print(cars[['cars_per_cap']])"
   ]
  },
  {
   "cell_type": "code",
   "execution_count": 27,
   "id": "258d9659",
   "metadata": {},
   "outputs": [
    {
     "name": "stdout",
     "output_type": "stream",
     "text": [
      "           drives_right\n",
      "country                \n",
      "US                 True\n",
      "Germany           False\n",
      "Japan             False\n",
      "India             False\n",
      "Brazil            False\n",
      "Australia         False\n",
      "Mexico             True\n"
     ]
    }
   ],
   "source": [
    "# Print out DataFrame with country and drives_right columns\n",
    "# print(cars[['country', 'drives_right']])\n",
    "print(cars[['drives_right']])"
   ]
  },
  {
   "cell_type": "markdown",
   "id": "ddee0f67",
   "metadata": {},
   "source": [
    "Square brackets can also be used to access observations (rows) from a DataFrame. For example:"
   ]
  },
  {
   "cell_type": "code",
   "execution_count": 28,
   "id": "41b077d8",
   "metadata": {},
   "outputs": [
    {
     "name": "stdout",
     "output_type": "stream",
     "text": [
      "         cars_per_cap  drives_right\n",
      "country                            \n",
      "US               0.80          True\n",
      "Germany          0.60         False\n",
      "Japan            0.50         False\n",
      "India            0.05         False\n",
      "           cars_per_cap  drives_right\n",
      "country                              \n",
      "Brazil             0.25         False\n",
      "Australia          0.75         False\n"
     ]
    }
   ],
   "source": [
    "# Import cars data\n",
    "import pandas as pd\n",
    "cars = pd.read_csv('cars.csv', index_col = 0)\n",
    "\n",
    "# Print out first 4 observations\n",
    "print(cars[0:4])\n",
    "\n",
    "# Print out fifth and sixth observation\n",
    "print(cars[4:6])"
   ]
  },
  {
   "cell_type": "markdown",
   "id": "7b45ce83",
   "metadata": {},
   "source": [
    "You can also use loc and iloc to perform just about any data selection operation. loc is label-based, which means that you have to specify rows and columns based on their row and column labels. iloc is integer index based, so you have to specify rows and columns by their integer index like you did in the previous exercise."
   ]
  },
  {
   "cell_type": "code",
   "execution_count": 48,
   "id": "e6530a12",
   "metadata": {},
   "outputs": [
    {
     "name": "stdout",
     "output_type": "stream",
     "text": [
      "\n",
      "Using iloc:\n",
      "cars_per_cap      0.6\n",
      "drives_right    False\n",
      "Name: Germany, dtype: object\n",
      "\n",
      "False\n",
      "\n",
      "country\n",
      "US           0.80\n",
      "Germany      0.60\n",
      "Japan        0.50\n",
      "India        0.05\n",
      "Brazil       0.25\n",
      "Australia    0.75\n",
      "Mexico       0.30\n",
      "Name: cars_per_cap, dtype: float64\n",
      "\n",
      "         drives_right\n",
      "country              \n",
      "Japan           False\n",
      "India           False\n",
      "\n",
      "         cars_per_cap  drives_right\n",
      "country                            \n",
      "US               0.80          True\n",
      "Brazil           0.25         False\n"
     ]
    }
   ],
   "source": [
    "# Import cars data\n",
    "import pandas as pd\n",
    "cars = pd.read_csv('cars.csv', index_col = 0)\n",
    "\n",
    "# Using iloc to access rows and columns by integer position\n",
    "print(\"\\nUsing iloc:\")\n",
    "print(cars.iloc[1])  # Accessing a specific row by integer position\n",
    "print()\n",
    "print(cars.iloc[2, 1])  # Accessing a specific element by row index 2 and column index 1 integer position\n",
    "print()\n",
    "print(cars.iloc[:, 0])  # Accessing all rows of a specific column by integer position\n",
    "print()\n",
    "print(cars.iloc[2:4, 1:])  # Accessing a range of rows (index 2 & 3) and columns (from index 1 to the last) by integer position\n",
    "print()\n",
    "\n",
    "# Print out observations for Australia and Egypt\n",
    "print(cars.loc[['US', 'Brazil']])"
   ]
  }
 ],
 "metadata": {
  "kernelspec": {
   "display_name": "Python 3 (ipykernel)",
   "language": "python",
   "name": "python3"
  },
  "language_info": {
   "codemirror_mode": {
    "name": "ipython",
    "version": 3
   },
   "file_extension": ".py",
   "mimetype": "text/x-python",
   "name": "python",
   "nbconvert_exporter": "python",
   "pygments_lexer": "ipython3",
   "version": "3.11.5"
  }
 },
 "nbformat": 4,
 "nbformat_minor": 5
}
