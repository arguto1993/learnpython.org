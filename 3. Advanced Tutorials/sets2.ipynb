{
 "cells": [
  {
   "cell_type": "code",
   "execution_count": 16,
   "metadata": {},
   "outputs": [
    {
     "name": "stdout",
     "output_type": "stream",
     "text": [
      "<class 'set'>\n"
     ]
    }
   ],
   "source": [
    "set_a = {\"check\", \"this\", \"out\"}\n",
    "print(type(set_a))"
   ]
  },
  {
   "cell_type": "code",
   "execution_count": 23,
   "metadata": {},
   "outputs": [
    {
     "name": "stdout",
     "output_type": "stream",
     "text": [
      "{'this', 'check', 'out'}\n"
     ]
    }
   ],
   "source": [
    "set_a = {\"check\", \"this\", \"out\"}\n",
    "print(set_a)"
   ]
  },
  {
   "cell_type": "code",
   "execution_count": 24,
   "metadata": {},
   "outputs": [
    {
     "name": "stdout",
     "output_type": "stream",
     "text": [
      "{'this', 'check', 'out'}\n"
     ]
    }
   ],
   "source": [
    "set_a = {\"check\", \"this\", \"out\"}\n",
    "set_a.add(\"this\")\n",
    "print(set_a)"
   ]
  },
  {
   "cell_type": "code",
   "execution_count": 36,
   "metadata": {},
   "outputs": [
    {
     "data": {
      "text/plain": [
       "{0, True, 'abc', 'check', 'out', 'this', 'z'}"
      ]
     },
     "execution_count": 36,
     "metadata": {},
     "output_type": "execute_result"
    }
   ],
   "source": [
    "set_a = {\"check\", \"this\", \"out\"}\n",
    "# set_a.add({\"this\", \"is\", \"a\", \"sets\"}) #TypeError: unhashable type: 'set'\n",
    "\n",
    "# Create a set containing strings\n",
    "set_to_add = {\"this\", \"is\", \"a\", \"set\"}\n",
    "\n",
    "# Convert the set to a tuple and add it to set_a\n",
    "set_a.add(\"z\")\n",
    "set_a.add(\"abc\")\n",
    "set_a.add(0)\n",
    "set_a.add(True)\n",
    "# set_a.pop()\n",
    "set_a"
   ]
  }
 ],
 "metadata": {
  "kernelspec": {
   "display_name": ".venv",
   "language": "python",
   "name": "python3"
  },
  "language_info": {
   "codemirror_mode": {
    "name": "ipython",
    "version": 3
   },
   "file_extension": ".py",
   "mimetype": "text/x-python",
   "name": "python",
   "nbconvert_exporter": "python",
   "pygments_lexer": "ipython3",
   "version": "3.10.12"
  }
 },
 "nbformat": 4,
 "nbformat_minor": 2
}
