{
 "cells": [
  {
   "cell_type": "code",
   "execution_count": 2,
   "metadata": {},
   "outputs": [
    {
     "name": "stdout",
     "output_type": "stream",
     "text": [
      "Charlie: Hi, my name's Charlie and I am happy today.\n",
      "Average Age: 30.0\n"
     ]
    }
   ],
   "source": [
    "class Person:\n",
    "    all_people = []\n",
    "    \n",
    "    #this is a constructor, a special instance method\n",
    "    def __init__(self, name, age):\n",
    "        self.name = name\n",
    "        self.age = age\n",
    "        Person.all_people.append(self)\n",
    "\n",
    "    #this is an instance method\n",
    "    def talk(self, sentence):\n",
    "        self.sentence = sentence\n",
    "        print(f\"{self.name}: {sentence}\")\n",
    "\n",
    "    @classmethod\n",
    "    def calculate_average_age(cls):\n",
    "        total_age = 0\n",
    "        for person in cls.all_people:\n",
    "            total_age += person.age\n",
    "        if cls.all_people:\n",
    "            return total_age / len(cls.all_people)\n",
    "        else:\n",
    "            return 0\n",
    "        \n",
    "    @classmethod\n",
    "    def calculate_people(cls):\n",
    "        return len(cls.all_people)\n",
    "\n",
    "# Creating instances of Person\n",
    "person1 = Person(\"Alice\", 30)\n",
    "person2 = Person(\"Bob\", 25)\n",
    "person3 = Person(\"Charlie\", 35)\n",
    "person3.talk(f\"Hi, my name's {person3.name} and I am happy today.\")\n",
    "\n",
    "# Calling the class method to calculate average age\n",
    "average_age = Person.calculate_average_age()\n",
    "print(\"Average Age:\", average_age)\n"
   ]
  },
  {
   "cell_type": "code",
   "execution_count": null,
   "metadata": {},
   "outputs": [],
   "source": []
  },
  {
   "cell_type": "code",
   "execution_count": null,
   "metadata": {},
   "outputs": [],
   "source": []
  },
  {
   "cell_type": "code",
   "execution_count": null,
   "metadata": {},
   "outputs": [],
   "source": []
  }
 ],
 "metadata": {
  "kernelspec": {
   "display_name": ".venv",
   "language": "python",
   "name": "python3"
  },
  "language_info": {
   "codemirror_mode": {
    "name": "ipython",
    "version": 3
   },
   "file_extension": ".py",
   "mimetype": "text/x-python",
   "name": "python",
   "nbconvert_exporter": "python",
   "pygments_lexer": "ipython3",
   "version": "3.10.12"
  }
 },
 "nbformat": 4,
 "nbformat_minor": 2
}
