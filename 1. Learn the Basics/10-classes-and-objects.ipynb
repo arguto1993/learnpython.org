{
 "cells": [
  {
   "cell_type": "markdown",
   "id": "64cdccb9-7c05-4f30-962b-b5af44c4dc73",
   "metadata": {},
   "source": [
    "# Classes and Objects"
   ]
  },
  {
   "cell_type": "markdown",
   "id": "fb987a26-eef9-4e32-ab0f-50051061a7f1",
   "metadata": {},
   "source": [
    "Objects are an encapsulation of variables and functions into a single entity. Objects get their variables and functions from classes. Classes are essentially a template to create your objects.\n",
    "\n",
    "A very basic class would look something like this:"
   ]
  },
  {
   "cell_type": "code",
   "execution_count": 1,
   "id": "a763413b-73a5-490f-9860-b0cf17eef815",
   "metadata": {},
   "outputs": [],
   "source": [
    "class MyClass:\n",
    "    variable = \"blah\"\n",
    "\n",
    "    def function(self):\n",
    "        print(\"This is a message inside the class.\")"
   ]
  },
  {
   "cell_type": "code",
   "execution_count": 4,
   "id": "280acd6c-f182-4aff-8dc9-66effc2b7c15",
   "metadata": {},
   "outputs": [
    {
     "name": "stdout",
     "output_type": "stream",
     "text": [
      "This is a message inside the class.\n"
     ]
    }
   ],
   "source": [
    "MyClass().function()"
   ]
  },
  {
   "cell_type": "markdown",
   "id": "694a5228-c02d-487c-93bd-98ac06375b39",
   "metadata": {},
   "source": [
    "We'll explain why you have to include that \"self\" as a parameter a little bit later. First, to assign the above class(template) to an object you would do the following:"
   ]
  },
  {
   "cell_type": "code",
   "execution_count": 5,
   "id": "09911221-7a88-4852-9ec4-51dd7c318970",
   "metadata": {},
   "outputs": [],
   "source": [
    "class MyClass:\n",
    "    variable = \"blah\"\n",
    "\n",
    "    def function(self):\n",
    "        print(\"This is a message inside the class.\")\n",
    "\n",
    "myobjectx = MyClass()"
   ]
  },
  {
   "cell_type": "markdown",
   "id": "d7922c22-bb30-4802-89c0-98f5c8c781bc",
   "metadata": {},
   "source": [
    "Now the variable \"myobjectx\" holds an object of the class \"MyClass\" that contains the variable and the function defined within the class called \"MyClass\"."
   ]
  },
  {
   "cell_type": "markdown",
   "id": "61de0890-a36a-4d2d-9d08-9f57315202e2",
   "metadata": {},
   "source": [
    "## Accessing Object Variables"
   ]
  },
  {
   "cell_type": "markdown",
   "id": "1df4cf40-7085-4ba1-8e8a-b3820ad24907",
   "metadata": {},
   "source": [
    "To access the variable inside of the newly created object \"myobjectx\" you would do the following:"
   ]
  },
  {
   "cell_type": "code",
   "execution_count": 15,
   "id": "5c194b40-45a6-4289-ba0f-432b81a43eb0",
   "metadata": {},
   "outputs": [
    {
     "data": {
      "text/plain": [
       "'blah'"
      ]
     },
     "execution_count": 15,
     "metadata": {},
     "output_type": "execute_result"
    }
   ],
   "source": [
    "class MyClass:\n",
    "    variable = \"blah\"\n",
    "\n",
    "    def function(self):\n",
    "        print(\"This is a message inside the class.\")\n",
    "\n",
    "myobjectx = MyClass()\n",
    "\n",
    "myobjectx.variable"
   ]
  },
  {
   "cell_type": "code",
   "execution_count": 16,
   "id": "de955cf3-14bf-40f8-a57c-49ac54863831",
   "metadata": {},
   "outputs": [
    {
     "name": "stdout",
     "output_type": "stream",
     "text": [
      "blah\n"
     ]
    }
   ],
   "source": [
    "x = myobjectx.variable\n",
    "print(x)"
   ]
  },
  {
   "cell_type": "markdown",
   "id": "e80b9f2d-212e-40aa-95a5-ac51231d80ac",
   "metadata": {},
   "source": [
    "You can create multiple different objects that are of the same class(have the same variables and functions defined). However, each object contains independent copies of the variables defined in the class. For instance, if we were to define another object with the \"MyClass\" class and then change the string in the variable above:"
   ]
  },
  {
   "cell_type": "code",
   "execution_count": 18,
   "id": "b88d0aef-2695-4203-8d81-f615c0f81582",
   "metadata": {},
   "outputs": [
    {
     "name": "stdout",
     "output_type": "stream",
     "text": [
      "blah\n",
      "yackity\n"
     ]
    }
   ],
   "source": [
    "class MyClass:\n",
    "    variable = \"blah\"\n",
    "\n",
    "    def function(self):\n",
    "        print(\"This is a message inside the class.\")\n",
    "\n",
    "myobjectx = MyClass()\n",
    "myobjecty = MyClass()\n",
    "\n",
    "myobjecty.variable = \"yackity\"\n",
    "\n",
    "# Then print out both values\n",
    "print(myobjectx.variable)\n",
    "print(myobjecty.variable)"
   ]
  },
  {
   "cell_type": "markdown",
   "id": "a75317fc-c0fb-414b-b55e-41d94fe64c37",
   "metadata": {},
   "source": [
    "## Accessing Object Functions"
   ]
  },
  {
   "cell_type": "code",
   "execution_count": 19,
   "id": "4b1f327f-a45b-4fba-b2f8-3f9df2ac7892",
   "metadata": {},
   "outputs": [
    {
     "name": "stdout",
     "output_type": "stream",
     "text": [
      "This is a message inside the class.\n"
     ]
    }
   ],
   "source": [
    "class MyClass:\n",
    "    variable = \"blah\"\n",
    "\n",
    "    def function(self):\n",
    "        print(\"This is a message inside the class.\")\n",
    "\n",
    "myobjectx = MyClass()\n",
    "\n",
    "myobjectx.function()"
   ]
  },
  {
   "cell_type": "markdown",
   "id": "4cf0fb8f-ef8e-4d31-8471-b9efbddc6e09",
   "metadata": {},
   "source": [
    "## init()"
   ]
  },
  {
   "cell_type": "markdown",
   "id": "b1781769-597b-401e-af13-c6a65fc1e1af",
   "metadata": {},
   "source": [
    "The __init__() function, is a special function that is called when the class is being initiated. It's used for assigning values in a class."
   ]
  },
  {
   "cell_type": "code",
   "execution_count": 23,
   "id": "98ef1e8a-41c7-4055-9b77-455274d03a1f",
   "metadata": {},
   "outputs": [
    {
     "name": "stdout",
     "output_type": "stream",
     "text": [
      "7\n"
     ]
    }
   ],
   "source": [
    "class NumberHolder:\n",
    "\n",
    "   def __init__(self, number):\n",
    "       self.number = number\n",
    "\n",
    "   def returnNumber(self):\n",
    "       return self.number\n",
    "\n",
    "var = NumberHolder(7)\n",
    "print(var.returnNumber()) #Prints '7'"
   ]
  },
  {
   "cell_type": "markdown",
   "id": "60bac7ea-8e8b-4270-9825-a204231ae87f",
   "metadata": {},
   "source": [
    "## Exercise"
   ]
  },
  {
   "cell_type": "markdown",
   "id": "ccfb988a-5ab7-4924-9462-22638a0d4528",
   "metadata": {},
   "source": [
    "We have a class defined for vehicles. Create two new vehicles called car1 and car2. Set car1 to be a red convertible worth $60,000.00 with a name of Fer, and car2 to be a blue van named Jump worth $10,000.00."
   ]
  },
  {
   "cell_type": "code",
   "execution_count": 24,
   "id": "b82def3a-3985-46b1-b0c0-8f7efa76b135",
   "metadata": {},
   "outputs": [
    {
     "name": "stdout",
     "output_type": "stream",
     "text": [
      "Fer is a red convertible worth $60000.00.\n",
      "Jump is a blue van worth $10000.00.\n"
     ]
    }
   ],
   "source": [
    "# define the Vehicle class\n",
    "class Vehicle:\n",
    "    name = \"\"\n",
    "    kind = \"car\"\n",
    "    color = \"\"\n",
    "    value = 100.00\n",
    "    def description(self):\n",
    "        desc_str = \"%s is a %s %s worth $%.2f.\" % (self.name, self.color, self.kind, self.value)\n",
    "        return desc_str\n",
    "# your code goes here\n",
    "car1 = Vehicle()\n",
    "car1.name = \"Fer\"\n",
    "car1.kind = \"convertible\"\n",
    "car1.color = \"red\"\n",
    "car1.value = 60000.00\n",
    "\n",
    "car2 = Vehicle()\n",
    "car2.name = \"Jump\"\n",
    "car2.kind = \"van\"\n",
    "car2.color = \"blue\"\n",
    "car2.value = 10000.00\n",
    "\n",
    "\n",
    "# test code\n",
    "print(car1.description())\n",
    "print(car2.description())"
   ]
  }
 ],
 "metadata": {
  "kernelspec": {
   "display_name": "Python 3 (ipykernel)",
   "language": "python",
   "name": "python3"
  },
  "language_info": {
   "codemirror_mode": {
    "name": "ipython",
    "version": 3
   },
   "file_extension": ".py",
   "mimetype": "text/x-python",
   "name": "python",
   "nbconvert_exporter": "python",
   "pygments_lexer": "ipython3",
   "version": "3.10.12"
  }
 },
 "nbformat": 4,
 "nbformat_minor": 5
}
