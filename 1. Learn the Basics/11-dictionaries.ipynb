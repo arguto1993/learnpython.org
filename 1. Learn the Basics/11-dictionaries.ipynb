{
 "cells": [
  {
   "cell_type": "markdown",
   "id": "f13d5b26-660c-4662-8785-4339a48d97e1",
   "metadata": {},
   "source": [
    "# Dictionaries"
   ]
  },
  {
   "cell_type": "markdown",
   "id": "25f683b8-9f60-40be-b547-716f4a4c91c6",
   "metadata": {},
   "source": [
    "A dictionary is a data type similar to arrays, but works with keys and values instead of indexes. Each value stored in a dictionary can be accessed using a key, which is any type of object (a string, a number, a list, etc.) instead of using its index to address it.\n",
    "\n",
    "For example, a database of phone numbers could be stored using a dictionary like this:"
   ]
  },
  {
   "cell_type": "code",
   "execution_count": 1,
   "id": "3f2919c1-5683-4d54-b3e7-b85a30aa6aed",
   "metadata": {},
   "outputs": [
    {
     "name": "stdout",
     "output_type": "stream",
     "text": [
      "{'John': 938477566, 'Jack': 938377264, 'Jill': 947662781}\n"
     ]
    }
   ],
   "source": [
    "phonebook = {}\n",
    "phonebook[\"John\"] = 938477566\n",
    "phonebook[\"Jack\"] = 938377264\n",
    "phonebook[\"Jill\"] = 947662781\n",
    "print(phonebook)"
   ]
  },
  {
   "cell_type": "markdown",
   "id": "8468f2e3-0d04-45f8-8343-59583b83d9e9",
   "metadata": {},
   "source": [
    "Alternatively, a dictionary can be initialized with the same values in the following notation:"
   ]
  },
  {
   "cell_type": "code",
   "execution_count": 2,
   "id": "c25a903d-b4ca-49eb-9211-fbbbd52f1cc3",
   "metadata": {},
   "outputs": [
    {
     "name": "stdout",
     "output_type": "stream",
     "text": [
      "{'John': 938477566, 'Jack': 938377264, 'Jill': 947662781}\n"
     ]
    }
   ],
   "source": [
    "phonebook = {\n",
    "    \"John\" : 938477566,\n",
    "    \"Jack\" : 938377264,\n",
    "    \"Jill\" : 947662781\n",
    "}\n",
    "print(phonebook)"
   ]
  },
  {
   "cell_type": "markdown",
   "id": "578ea16c-76b5-4a96-b799-bebd98cb6da9",
   "metadata": {},
   "source": [
    "## Iterating over dictionaries"
   ]
  },
  {
   "cell_type": "markdown",
   "id": "3a864d70-a50d-42c2-a35e-513c9be87d27",
   "metadata": {},
   "source": [
    "Dictionaries can be iterated over, just like a list. However, a dictionary, unlike a list, does not keep the order of the values stored in it. To iterate over key value pairs, use the following syntax:"
   ]
  },
  {
   "cell_type": "code",
   "execution_count": 5,
   "id": "247089aa-96e0-4507-8f14-19e7a9d3a20b",
   "metadata": {},
   "outputs": [
    {
     "name": "stdout",
     "output_type": "stream",
     "text": [
      "Phone number of John is 938477566\n",
      "Phone number of Jack is 938377264\n",
      "Phone number of Jill is 947662781\n"
     ]
    }
   ],
   "source": [
    "phonebook = {\"John\" : 938477566,\"Jack\" : 938377264,\"Jill\" : 947662781}\n",
    "for name, number in phonebook.items():\n",
    "    print(\"Phone number of %s is %d\" % (name, number))"
   ]
  },
  {
   "cell_type": "markdown",
   "id": "c51d157f-58e2-4ecc-9b73-55b51aa0e54f",
   "metadata": {},
   "source": [
    "## Removing a value"
   ]
  },
  {
   "cell_type": "markdown",
   "id": "ec5393fc-9a2b-47c7-a9f6-b7515663e8f3",
   "metadata": {},
   "source": [
    "To remove a specified index, use either one of the following notations:"
   ]
  },
  {
   "cell_type": "code",
   "execution_count": 6,
   "id": "3d54bc0d-8c28-4121-9ea8-f21f6656f485",
   "metadata": {},
   "outputs": [
    {
     "name": "stdout",
     "output_type": "stream",
     "text": [
      "{'Jack': 938377264, 'Jill': 947662781}\n"
     ]
    }
   ],
   "source": [
    "phonebook = {\n",
    "   \"John\" : 938477566,\n",
    "   \"Jack\" : 938377264,\n",
    "   \"Jill\" : 947662781\n",
    "}\n",
    "del phonebook[\"John\"]\n",
    "print(phonebook)"
   ]
  },
  {
   "cell_type": "markdown",
   "id": "30f30213-a2b6-4c66-8bd1-f156dc353bdc",
   "metadata": {},
   "source": [
    "or:"
   ]
  },
  {
   "cell_type": "code",
   "execution_count": 7,
   "id": "bada9e43-6d5c-40ab-acbf-9022710d7cac",
   "metadata": {},
   "outputs": [
    {
     "name": "stdout",
     "output_type": "stream",
     "text": [
      "{'Jack': 938377264, 'Jill': 947662781}\n"
     ]
    }
   ],
   "source": [
    "phonebook = {\n",
    "   \"John\" : 938477566,\n",
    "   \"Jack\" : 938377264,\n",
    "   \"Jill\" : 947662781\n",
    "}\n",
    "phonebook.pop(\"John\")\n",
    "print(phonebook)"
   ]
  },
  {
   "cell_type": "markdown",
   "id": "0495d781-e264-4c2a-bbd2-df8b05b80a94",
   "metadata": {},
   "source": [
    "### del & pop difference"
   ]
  },
  {
   "cell_type": "markdown",
   "id": "7df29e40-c181-428f-8071-803dc82631fb",
   "metadata": {},
   "source": [
    "del does NOT return the removed value.\n",
    "Error Handling: If you try to delete a key that doesn't exist, del raises a KeyError."
   ]
  },
  {
   "cell_type": "code",
   "execution_count": 9,
   "id": "245f710e-105a-4603-a24d-62f3820a023f",
   "metadata": {},
   "outputs": [
    {
     "ename": "KeyError",
     "evalue": "'Robert'",
     "output_type": "error",
     "traceback": [
      "\u001b[0;31m---------------------------------------------------------------------------\u001b[0m",
      "\u001b[0;31mKeyError\u001b[0m                                  Traceback (most recent call last)",
      "Cell \u001b[0;32mIn[9], line 6\u001b[0m\n\u001b[1;32m      1\u001b[0m phonebook \u001b[38;5;241m=\u001b[39m {\n\u001b[1;32m      2\u001b[0m    \u001b[38;5;124m\"\u001b[39m\u001b[38;5;124mJohn\u001b[39m\u001b[38;5;124m\"\u001b[39m : \u001b[38;5;241m938477566\u001b[39m,\n\u001b[1;32m      3\u001b[0m    \u001b[38;5;124m\"\u001b[39m\u001b[38;5;124mJack\u001b[39m\u001b[38;5;124m\"\u001b[39m : \u001b[38;5;241m938377264\u001b[39m,\n\u001b[1;32m      4\u001b[0m    \u001b[38;5;124m\"\u001b[39m\u001b[38;5;124mJill\u001b[39m\u001b[38;5;124m\"\u001b[39m : \u001b[38;5;241m947662781\u001b[39m\n\u001b[1;32m      5\u001b[0m }\n\u001b[0;32m----> 6\u001b[0m \u001b[38;5;28;01mdel\u001b[39;00m phonebook[\u001b[38;5;124m\"\u001b[39m\u001b[38;5;124mRobert\u001b[39m\u001b[38;5;124m\"\u001b[39m]\n",
      "\u001b[0;31mKeyError\u001b[0m: 'Robert'"
     ]
    }
   ],
   "source": [
    "phonebook = {\n",
    "   \"John\" : 938477566,\n",
    "   \"Jack\" : 938377264,\n",
    "   \"Jill\" : 947662781\n",
    "}\n",
    "del phonebook[\"Robert\"]"
   ]
  },
  {
   "cell_type": "markdown",
   "id": "5380a4e1-299d-4e3f-ba2c-9ac6a6740cc2",
   "metadata": {},
   "source": [
    "pop returns the value associated with the removed key.\n",
    "Error Handling: if the key doesn't exist, pop raises a KeyError. However, you can provide a default value to be returned in such cases: dictionary_name.pop(key, default_value)."
   ]
  },
  {
   "cell_type": "code",
   "execution_count": 18,
   "id": "125b7898-3469-4f8c-9ae0-e17a1c535d7f",
   "metadata": {},
   "outputs": [
    {
     "data": {
      "text/plain": [
       "938477566"
      ]
     },
     "execution_count": 18,
     "metadata": {},
     "output_type": "execute_result"
    }
   ],
   "source": [
    "phonebook = {\n",
    "   \"John\" : 938477566,\n",
    "   \"Jack\" : 938377264,\n",
    "   \"Jill\" : 947662781\n",
    "}\n",
    "phonebook.pop(\"John\")"
   ]
  },
  {
   "cell_type": "code",
   "execution_count": 16,
   "id": "2f4c9b71-fbee-4fc7-aa03-887890b2cd34",
   "metadata": {},
   "outputs": [
    {
     "ename": "KeyError",
     "evalue": "'Robert'",
     "output_type": "error",
     "traceback": [
      "\u001b[0;31m---------------------------------------------------------------------------\u001b[0m",
      "\u001b[0;31mKeyError\u001b[0m                                  Traceback (most recent call last)",
      "Cell \u001b[0;32mIn[16], line 6\u001b[0m\n\u001b[1;32m      1\u001b[0m phonebook \u001b[38;5;241m=\u001b[39m {\n\u001b[1;32m      2\u001b[0m    \u001b[38;5;124m\"\u001b[39m\u001b[38;5;124mJohn\u001b[39m\u001b[38;5;124m\"\u001b[39m : \u001b[38;5;241m938477566\u001b[39m,\n\u001b[1;32m      3\u001b[0m    \u001b[38;5;124m\"\u001b[39m\u001b[38;5;124mJack\u001b[39m\u001b[38;5;124m\"\u001b[39m : \u001b[38;5;241m938377264\u001b[39m,\n\u001b[1;32m      4\u001b[0m    \u001b[38;5;124m\"\u001b[39m\u001b[38;5;124mJill\u001b[39m\u001b[38;5;124m\"\u001b[39m : \u001b[38;5;241m947662781\u001b[39m\n\u001b[1;32m      5\u001b[0m }\n\u001b[0;32m----> 6\u001b[0m \u001b[43mphonebook\u001b[49m\u001b[38;5;241;43m.\u001b[39;49m\u001b[43mpop\u001b[49m\u001b[43m(\u001b[49m\u001b[38;5;124;43m\"\u001b[39;49m\u001b[38;5;124;43mRobert\u001b[39;49m\u001b[38;5;124;43m\"\u001b[39;49m\u001b[43m)\u001b[49m\n",
      "\u001b[0;31mKeyError\u001b[0m: 'Robert'"
     ]
    }
   ],
   "source": [
    "phonebook = {\n",
    "   \"John\" : 938477566,\n",
    "   \"Jack\" : 938377264,\n",
    "   \"Jill\" : 947662781\n",
    "}\n",
    "phonebook.pop(\"Robert\")"
   ]
  },
  {
   "cell_type": "code",
   "execution_count": 17,
   "id": "3d1c156b-f64c-4e5d-9d5d-1a9a5d6b7a5d",
   "metadata": {},
   "outputs": [
    {
     "data": {
      "text/plain": [
       "'Robert not found'"
      ]
     },
     "execution_count": 17,
     "metadata": {},
     "output_type": "execute_result"
    }
   ],
   "source": [
    "phonebook = {\n",
    "   \"John\" : 938477566,\n",
    "   \"Jack\" : 938377264,\n",
    "   \"Jill\" : 947662781\n",
    "}\n",
    "phonebook.pop(\"Robert\", \"Robert not found\")"
   ]
  },
  {
   "cell_type": "markdown",
   "id": "c53b3862-36e3-4d35-a8d8-aeb19c2de482",
   "metadata": {},
   "source": [
    "## Exercise"
   ]
  },
  {
   "cell_type": "markdown",
   "id": "6c6c55b1-3a3e-455e-9ab2-fbf4535eb05d",
   "metadata": {},
   "source": [
    "Add \"Jake\" to the phonebook with the phone number 938273443, and remove Jill from the phonebook."
   ]
  },
  {
   "cell_type": "code",
   "execution_count": 8,
   "id": "4796da05-0bc9-4d5d-9cf6-4620827785fa",
   "metadata": {},
   "outputs": [
    {
     "name": "stdout",
     "output_type": "stream",
     "text": [
      "Jake is listed in the phonebook.\n",
      "Jill is not listed in the phonebook.\n"
     ]
    }
   ],
   "source": [
    "phonebook = {  \n",
    "    \"John\" : 938477566,\n",
    "    \"Jack\" : 938377264,\n",
    "    \"Jill\" : 947662781\n",
    "}  \n",
    "# your code goes here\n",
    "phonebook[\"Jake\"] = 938273443\n",
    "phonebook.pop(\"Jill\")\n",
    "\n",
    "# testing code\n",
    "if \"Jake\" in phonebook:  \n",
    "    print(\"Jake is listed in the phonebook.\")\n",
    "    \n",
    "if \"Jill\" not in phonebook:      \n",
    "    print(\"Jill is not listed in the phonebook.\")"
   ]
  }
 ],
 "metadata": {
  "kernelspec": {
   "display_name": "Python 3 (ipykernel)",
   "language": "python",
   "name": "python3"
  },
  "language_info": {
   "codemirror_mode": {
    "name": "ipython",
    "version": 3
   },
   "file_extension": ".py",
   "mimetype": "text/x-python",
   "name": "python",
   "nbconvert_exporter": "python",
   "pygments_lexer": "ipython3",
   "version": "3.10.12"
  }
 },
 "nbformat": 4,
 "nbformat_minor": 5
}
