{
 "cells": [
  {
   "cell_type": "markdown",
   "id": "3785379d-52c7-4f1d-9e85-8796b24fc09d",
   "metadata": {},
   "source": [
    "# Modules and Packages"
   ]
  },
  {
   "cell_type": "markdown",
   "id": "89f77252-c935-4664-a5c7-69a518931b78",
   "metadata": {},
   "source": [
    "In programming, a module is a piece of software that has a specific functionality. For example, when building a ping pong game, one module may be responsible for the game logic, and another module draws the game on the screen. Each module consists of a different file, which may be edited separately."
   ]
  },
  {
   "cell_type": "markdown",
   "id": "5873094d-35a1-4a95-aee4-d5d9d444b665",
   "metadata": {},
   "source": [
    "## Writing modules"
   ]
  },
  {
   "cell_type": "markdown",
   "id": "c9603d43-1a2c-45a6-9676-eb97dad407bd",
   "metadata": {},
   "source": [
    "Modules in Python are just Python files with a .py extension. The name of the module is the same as the file name. A Python module can have a set of functions, classes, or variables defined and implemented. The example below includes two files:\n",
    "\n",
    "mygame/\n",
    "- mygame/game.py\n",
    "- mygame/draw.py\n",
    "\n",
    "The Python script game.py implements the game. It uses the function draw_game from the file draw.py, or in other words, the draw module that implements the logic for drawing the game on the screen.\n",
    "\n",
    "Modules are imported from other modules using the import command. In this example, the game.py script may look something like this:"
   ]
  },
  {
   "cell_type": "code",
   "execution_count": null,
   "id": "d9fffd27-1856-4c00-be7c-4b2ef5449ed0",
   "metadata": {
    "scrolled": true
   },
   "outputs": [],
   "source": [
    "# game.py\n",
    "# import the draw module\n",
    "import draw\n",
    "\n",
    "def play_game():\n",
    "    ...\n",
    "\n",
    "def main():\n",
    "    result = play_game()\n",
    "    draw.draw_game(result)\n",
    "\n",
    "# this means that if this script is executed, then \n",
    "# main() will be executed\n",
    "if __name__ == '__main__':\n",
    "    main()"
   ]
  },
  {
   "cell_type": "code",
   "execution_count": null,
   "id": "f33166c3-1233-45d8-a16f-0d2485a280b9",
   "metadata": {},
   "outputs": [],
   "source": [
    "The draw module may look something like this:"
   ]
  },
  {
   "cell_type": "code",
   "execution_count": 2,
   "id": "e0bf0b01-7a83-4f6f-86f4-3b10a92ccd91",
   "metadata": {},
   "outputs": [],
   "source": [
    "# draw.py\n",
    "\n",
    "def draw_game():\n",
    "    ...\n",
    "\n",
    "def clear_screen(screen):\n",
    "    ..."
   ]
  },
  {
   "cell_type": "markdown",
   "id": "67cb6e2f-fd95-4405-ba20-387b832e726b",
   "metadata": {},
   "source": [
    "In this example, the game module imports the draw module, which enables it to use functions implemented in that module. The main function uses the local function play_game to run the game, and then draws the result of the game using a function implemented in the draw module called draw_game. To use the function draw_game from the draw module, we need to specify in which module the function is implemented, using the dot operator. To reference the draw_game function from the game module, we need to import the draw module and then call draw.draw_game().\n",
    "\n",
    "When the import draw directive runs, the Python interpreter looks for a file in the directory in which the script was executed with the module name and a .py suffix. In this case it will look for draw.py. If it is found, it will be imported. If it's not found, it will continue looking for built-in modules."
   ]
  },
  {
   "cell_type": "markdown",
   "id": "7d929040-ae08-44c0-b2bb-e867a852ee63",
   "metadata": {},
   "source": [
    "You may have noticed that when importing a module, a .pyc file is created. This is a compiled Python file. Python compiles files into Python bytecode so that it won't have to parse the files each time modules are loaded. If a .pyc file exists, it gets loaded instead of the .py file. This process is transparent to the user."
   ]
  },
  {
   "cell_type": "markdown",
   "id": "2e138978-1897-455d-bf94-1a80b1c44a9e",
   "metadata": {},
   "source": [
    "## Importing module objects to the current namespace"
   ]
  },
  {
   "cell_type": "markdown",
   "id": "01c4c3a7-503e-484d-8a28-5897a328a2a6",
   "metadata": {},
   "source": [
    "A namespace is a system where every object is named and can be accessed in Python. We import the function draw_game into the main script's namespace by using the from command."
   ]
  },
  {
   "cell_type": "code",
   "execution_count": null,
   "id": "fdcaa59b-a5c8-4b07-8110-4c4e83c19408",
   "metadata": {},
   "outputs": [],
   "source": [
    "# game.py\n",
    "# import the draw module\n",
    "from draw import draw_game\n",
    "\n",
    "def main():\n",
    "    result = play_game()\n",
    "    draw_game(result)"
   ]
  },
  {
   "cell_type": "markdown",
   "id": "9f496dac-3f8c-4d21-9c66-9bd310bf9fe0",
   "metadata": {},
   "source": [
    "You may have noticed that in this example, the name of the module does not precede draw_game, because we've specified the module name using the import command.\n",
    "\n",
    "The advantages of this notation is that you don't have to reference the module over and over. However, a namespace cannot have two objects with the same name, so the import command may replace an existing object in the namespace."
   ]
  },
  {
   "cell_type": "code",
   "execution_count": null,
   "id": "a4bffc19-1624-4070-b1ef-504e4c697310",
   "metadata": {},
   "outputs": [],
   "source": [
    "## Importing all objects from a module"
   ]
  },
  {
   "cell_type": "markdown",
   "id": "75e89a33-ae6a-4776-8188-f083cd186694",
   "metadata": {},
   "source": [
    "You can use the import * command to import all the objects in a module like this:"
   ]
  },
  {
   "cell_type": "code",
   "execution_count": null,
   "id": "fa379c46-27a4-4a90-bb2a-e937d90d7e68",
   "metadata": {},
   "outputs": [],
   "source": [
    "# game.py\n",
    "# import the draw module\n",
    "from draw import *\n",
    "\n",
    "def main():\n",
    "    result = play_game()\n",
    "    draw_game(result)"
   ]
  },
  {
   "cell_type": "markdown",
   "id": "9fb721dd-e3ff-488b-8999-7697cbeadcd3",
   "metadata": {},
   "source": [
    "This might be a bit risky as changes in the module may affect the module which imports it, but it is shorter, and doesn't require you to specify every object you want to import from the module."
   ]
  },
  {
   "cell_type": "markdown",
   "id": "416899b9-88c2-4925-bdd3-8b141a76b57c",
   "metadata": {},
   "source": [
    "## Custom import name"
   ]
  },
  {
   "cell_type": "markdown",
   "id": "41cbc4f8-9420-41fc-b876-a70b57bd0bac",
   "metadata": {},
   "source": [
    "Modules may be loaded under any name you want. This is useful when importing a module conditionally to use the same name in the rest of the code.\n",
    "\n",
    "For example, if you have two draw modules with slighty different names, you may do the following:"
   ]
  },
  {
   "cell_type": "code",
   "execution_count": null,
   "id": "10bbb0ce-89f7-46fd-9981-2719ab0b5446",
   "metadata": {},
   "outputs": [],
   "source": [
    "# game.py\n",
    "# import the draw module\n",
    "if visual_mode:\n",
    "    # in visual mode, we draw using graphics\n",
    "    import draw_visual as draw\n",
    "else:\n",
    "    # in textual mode, we print out text\n",
    "    import draw_textual as draw\n",
    "\n",
    "def main():\n",
    "    result = play_game()\n",
    "    # this can either be visual or textual depending on visual_mode\n",
    "    draw.draw_game(result)"
   ]
  },
  {
   "cell_type": "markdown",
   "id": "a2c1f0af-e684-4735-9821-f40f933b9934",
   "metadata": {},
   "source": [
    "## Module initialization"
   ]
  },
  {
   "cell_type": "markdown",
   "id": "ed298681-6402-47e4-9da8-afa14e9a76e9",
   "metadata": {},
   "source": [
    "The first time a module is loaded into a running Python script, it is initialized by executing the code in the module once. If another module in your code imports the same module again, it will not be loaded again, so local variables inside the module act as a \"singleton,\" meaning they are initialized only once.\n",
    "\n",
    "You can then use this to initialize objects. For example:"
   ]
  },
  {
   "cell_type": "markdown",
   "id": "77045853-92b5-48c2-95ac-732b78a805e1",
   "metadata": {},
   "source": [
    "# draw.py\n",
    "\n",
    "def draw_game():\n",
    "    # when clearing the screen we can use the main screen object initialized in this module\n",
    "    clear_screen(main_screen)\n",
    "    ...\n",
    "\n",
    "def clear_screen(screen):\n",
    "    ...\n",
    "\n",
    "class Screen():\n",
    "    ...\n",
    "\n",
    "# initialize main_screen as a singleton\n",
    "main_screen = Screen()"
   ]
  },
  {
   "cell_type": "markdown",
   "id": "f00dd4ba-fba2-493a-a7ce-d0746794e912",
   "metadata": {},
   "source": [
    "## Extending module load path"
   ]
  },
  {
   "cell_type": "markdown",
   "id": "2c819a8b-6627-4e53-949a-2105ba354d0e",
   "metadata": {},
   "source": [
    "There are a couple of ways to tell the Python interpreter where to look for modules, aside from the default local directory and built-in modules. You can use the environment variable PYTHONPATH to specify additional directories to look for modules like this:"
   ]
  },
  {
   "cell_type": "code",
   "execution_count": null,
   "id": "b65c3a50-14c1-4c24-96de-cea2581c6a48",
   "metadata": {},
   "outputs": [],
   "source": [
    "PYTHONPATH=/foo python game.py"
   ]
  },
  {
   "cell_type": "markdown",
   "id": "463922c4-102b-44bf-adc2-114da3007b2f",
   "metadata": {},
   "source": [
    "This executes game.py, and enables the script to load modules from the foo directory, as well as the local directory.\n",
    "\n",
    "You may also use the sys.path.append function. Execute it before running the import command:"
   ]
  },
  {
   "cell_type": "code",
   "execution_count": null,
   "id": "f29bb2c5-a94a-4ab1-a26e-ef03c91fbee6",
   "metadata": {},
   "outputs": [],
   "source": [
    "sys.path.append(\"/foo\")"
   ]
  },
  {
   "cell_type": "markdown",
   "id": "f90d2003-a684-49c5-a088-2c4c853175f1",
   "metadata": {},
   "source": [
    "Now the foo directory has been added to the list of paths where modules are looked for."
   ]
  },
  {
   "cell_type": "markdown",
   "id": "369e984d-119b-4521-82cf-cc4e97691029",
   "metadata": {},
   "source": [
    "## Exploring built-in modules"
   ]
  },
  {
   "cell_type": "markdown",
   "id": "fb03d0a7-fcac-4656-a036-88d0260d73b8",
   "metadata": {},
   "source": [
    "Check out the full list of built-in modules in the Python standard library [here](https://docs.python.org/3/library/).\n",
    "\n",
    "Two very important functions come in handy when exploring modules in Python - the dir and help functions.\n",
    "\n",
    "To import the module urllib, which enables us to create read data from URLs, we import the module:"
   ]
  },
  {
   "cell_type": "markdown",
   "id": "e6d4094d-b90e-44e4-bf34-eecca457ce50",
   "metadata": {},
   "source": [
    "# import the library\n",
    "import urllib\n",
    "\n",
    "# use it\n",
    "urllib.urlopen(...)"
   ]
  },
  {
   "cell_type": "markdown",
   "id": "7e20e13e-cc4d-4f51-8922-ac0478aaed8d",
   "metadata": {},
   "source": [
    "We can look for which functions are implemented in each module by using the dir function:"
   ]
  },
  {
   "cell_type": "code",
   "execution_count": null,
   "id": "3ef35a1f-4d39-47c9-b143-925dbc1aa68d",
   "metadata": {},
   "outputs": [],
   "source": [
    ">>> import urllib\n",
    ">>> dir(urllib)\n",
    "['ContentTooShortError', 'FancyURLopener', 'MAXFTPCACHE', 'URLopener', '__all__', '__builtins__', \n",
    "'__doc__', '__file__', '__name__', '__package__', '__version__', '_ftperrors', '_get_proxies', \n",
    "'_get_proxy_settings', '_have_ssl', '_hexdig', '_hextochr', '_hostprog', '_is_unicode', '_localhost', \n",
    "'_noheaders', '_nportprog', '_passwdprog', '_portprog', '_queryprog', '_safe_map', '_safe_quoters', \n",
    "'_tagprog', '_thishost', '_typeprog', '_urlopener', '_userprog', '_valueprog', 'addbase', 'addclosehook', \n",
    "'addinfo', 'addinfourl', 'always_safe', 'basejoin', 'c', 'ftpcache', 'ftperrors', 'ftpwrapper', 'getproxies', \n",
    "'getproxies_environment', 'getproxies_macosx_sysconf', 'i', 'localhost', 'main', 'noheaders', 'os', \n",
    "'pathname2url', 'proxy_bypass', 'proxy_bypass_environment', 'proxy_bypass_macosx_sysconf', 'quote', \n",
    "'quote_plus', 'reporthook', 'socket', 'splitattr', 'splithost', 'splitnport', 'splitpasswd', 'splitport', \n",
    "'splitquery', 'splittag', 'splittype', 'splituser', 'splitvalue', 'ssl', 'string', 'sys', 'test', 'test1', \n",
    "'thishost', 'time', 'toBytes', 'unquote', 'unquote_plus', 'unwrap', 'url2pathname', 'urlcleanup', 'urlencode', \n",
    "'urlopen', 'urlretrieve']"
   ]
  },
  {
   "cell_type": "markdown",
   "id": "2356b584-ffed-463d-abcd-2aa107aab665",
   "metadata": {},
   "source": [
    "When we find the function in the module we want to use, we can read more about it with the help function, using the Python interpreter:"
   ]
  },
  {
   "cell_type": "code",
   "execution_count": null,
   "id": "03e643ca-aa6f-46ce-bc12-4780e19d66cf",
   "metadata": {},
   "outputs": [],
   "source": [
    "help(urllib.urlopen)"
   ]
  },
  {
   "cell_type": "markdown",
   "id": "1b23fd17-022e-48ac-93d1-b4609eddd90d",
   "metadata": {},
   "source": [
    "## Writing packages"
   ]
  },
  {
   "cell_type": "markdown",
   "id": "521c5ad4-a3a5-4247-acbb-ac5b44a5c677",
   "metadata": {},
   "source": [
    "Packages are namespaces containing multiple packages and modules. They're just directories, but with certain requirements.\n",
    "\n",
    "Each package in Python is a directory which MUST contain a special file called __init__.py. This file, which can be empty, indicates that the directory it's in is a Python package. That way it can be imported the same way as a module.\n",
    "\n",
    "If we create a directory called foo, which marks the package name, we can then create a module inside that package called bar. Then we add the __init__.py file inside the foo directory.\n",
    "\n",
    "To use the module bar, we can import it in two ways:"
   ]
  },
  {
   "cell_type": "code",
   "execution_count": null,
   "id": "693514a7-64fa-460d-95b6-87e3eb765efe",
   "metadata": {},
   "outputs": [],
   "source": [
    "import foo.bar"
   ]
  },
  {
   "cell_type": "markdown",
   "id": "844c2939-3c35-420a-ae1e-b8fe78727390",
   "metadata": {},
   "source": [
    "or:"
   ]
  },
  {
   "cell_type": "code",
   "execution_count": null,
   "id": "23e0db27-d3e0-418a-a10c-982bd43592c8",
   "metadata": {},
   "outputs": [],
   "source": [
    "from foo import bar"
   ]
  },
  {
   "cell_type": "markdown",
   "id": "fac73f42-eb32-4949-8fb9-52a4eacfafeb",
   "metadata": {},
   "source": [
    "In the first example above, we have to use the foo prefix whenever we access the module bar. In the second example, we don't, because we've imported the module to our module's namespace.\n",
    "\n",
    "The __init__.py file can also decide which modules the package exports as the API, while keeping other modules internal, by overriding the __all__ variable like so:"
   ]
  },
  {
   "cell_type": "code",
   "execution_count": null,
   "id": "8b311558-a207-4589-ba7b-4597f3be6afa",
   "metadata": {},
   "outputs": [],
   "source": [
    "__init__.py:\n",
    "\n",
    "__all__ = [\"bar\"]"
   ]
  },
  {
   "cell_type": "markdown",
   "id": "7a8a686e-c7c2-455d-92bf-148806d13428",
   "metadata": {},
   "source": [
    "## Exercise"
   ]
  },
  {
   "cell_type": "markdown",
   "id": "6511e75b-ddc1-4058-81df-fb746fb6433d",
   "metadata": {},
   "source": [
    "In this exercise, print an alphabetically sorted list of all the functions in the re module containing the word \"find\"."
   ]
  },
  {
   "cell_type": "code",
   "execution_count": 7,
   "id": "578fffc1-312e-4465-be92-eb7e9aa85d73",
   "metadata": {},
   "outputs": [
    {
     "name": "stdout",
     "output_type": "stream",
     "text": [
      "['findall', 'finditer']\n"
     ]
    }
   ],
   "source": [
    "import re #regular expression module\n",
    "\n",
    "# Your code goes here\n",
    "find_members = []\n",
    "for member in dir(re):\n",
    "    if \"find\" in member:\n",
    "        find_members.append(member)\n",
    "\n",
    "print(sorted(find_members))"
   ]
  }
 ],
 "metadata": {
  "kernelspec": {
   "display_name": "Python 3 (ipykernel)",
   "language": "python",
   "name": "python3"
  },
  "language_info": {
   "codemirror_mode": {
    "name": "ipython",
    "version": 3
   },
   "file_extension": ".py",
   "mimetype": "text/x-python",
   "name": "python",
   "nbconvert_exporter": "python",
   "pygments_lexer": "ipython3",
   "version": "3.10.12"
  }
 },
 "nbformat": 4,
 "nbformat_minor": 5
}
